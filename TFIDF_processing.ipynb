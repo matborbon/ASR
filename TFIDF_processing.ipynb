{
  "nbformat": 4,
  "nbformat_minor": 0,
  "metadata": {
    "colab": {
      "provenance": []
    },
    "kernelspec": {
      "name": "python3",
      "display_name": "Python 3"
    },
    "language_info": {
      "name": "python"
    }
  },
  "cells": [
    {
      "cell_type": "code",
      "execution_count": null,
      "metadata": {
        "id": "AHjB1FBCVYgU"
      },
      "outputs": [],
      "source": [
        "# Load all sheets from the uploaded Excel file to examine its contents\n",
        "file_path = 'Relevant List from R1 and R2.xlsx'\n",
        "dataframes = read_all_sheets_from_excel(file_path)\n",
        "\n",
        "# Print the names of the sheets and the first few rows of each to understand their structure\n",
        "for sheet_name, df in dataframes.items():\n",
        "    print('Sheet name:', sheet_name)\n",
        "    print(df.head())\n",
        "    print('-' * 80)\n",
        "\n",
        "# Load the 'Relevant36' sheet and inspect the first few rows to understand its structure\n",
        "df_relevant36 = dataframes['Relevant36']\n",
        "\n",
        "# Check the first few rows to determine how to set the correct header\n",
        "print(df_relevant36.head())\n",
        "\n",
        "# Perform TF-IDF analysis on the 'Relevant36' DataFrame, assuming the 'Abstract' column contains the text data\n",
        "from sklearn.feature_extraction.text import TfidfVectorizer\n",
        "import pandas as pd\n",
        "\n",
        "# Extract the 'Abstract' column\n",
        "texts = df_relevant36['Abstract'].dropna().astype(str).tolist()\n",
        "\n",
        "# Initialize the TF-IDF Vectorizer\n",
        "vectorizer = TfidfVectorizer(stop_words='english', max_features=20)\n",
        "\n",
        "# Fit and transform the texts\n",
        "tfidf_matrix = vectorizer.fit_transform(texts)\n",
        "\n",
        "# Get feature names\n",
        "features = vectorizer.get_feature_names_out()\n",
        "\n",
        "# Create a DataFrame for the TF-IDF scores\n",
        "tfidf_df = pd.DataFrame(tfidf_matrix.toarray(), columns=features)\n",
        "\n",
        "# Show the top features with the highest TF-IDF scores for each document\n",
        "top_features = tfidf_df.idxmax(axis=1)\n",
        "top_scores = tfidf_df.max(axis=1)\n",
        "\n",
        "# Combine into a summary DataFrame\n",
        "summary_df = pd.DataFrame({'Top Feature': top_features, 'Score': top_scores})\n",
        "\n",
        "# Display the first few rows of the summary\n",
        "print(summary_df.head())"
      ]
    },
    {
      "cell_type": "code",
      "source": [
        "import matplotlib.pyplot as plt\n",
        "import seaborn as sns\n",
        "\n",
        "# Use the TF-IDF scores DataFrame to plot the distribution of scores\n",
        "plt.figure(figsize=(10, 6))\n",
        "sns.histplot(tfidf_df.values.flatten(), bins=30, kde=True)\n",
        "plt.title('Distribution of TF-IDF Scores')\n",
        "plt.xlabel('TF-IDF Score')\n",
        "plt.ylabel('Frequency')\n",
        "plt.show()"
      ],
      "metadata": {
        "id": "5Rieux4wV304"
      },
      "execution_count": null,
      "outputs": []
    },
    {
      "cell_type": "code",
      "source": [
        "# Assuming we have a column that indicates document type, for example 'Type'\n",
        "# First, check if such a column exists\n",
        "print(df_relevant36.columns)\n",
        "\n",
        "# If it exists, we will group by this column and analyze TF-IDF scores\n",
        "# For demonstration, let's assume the column is named 'Type'\n",
        "# If the column doesn't exist, we need to identify the correct column or create one\n",
        "\n",
        "# Check unique values in the 'Type' column\n",
        "if 'Type' in df_relevant36.columns:\n",
        "    print(df_relevant36['Type'].value_counts())\n",
        "else:\n",
        "    print('No column named \"Type\" found. Please specify the correct column for document type.')"
      ],
      "metadata": {
        "id": "DCwyW3puV7BB"
      },
      "execution_count": null,
      "outputs": []
    },
    {
      "cell_type": "code",
      "source": [
        "# Define categories and associated keywords\n",
        "categories_keywords = {\n",
        "    'Education': ['education', 'learning', 'teacher', 'student', 'pedagogy', 'assessment', 'evaluation', 'blended learning', 'online education', 'distance learning', 'remote teaching'],\n",
        "    'Social Media': ['social media', 'WeChat', 'Twitter', 'altmetrics', 'discourse analysis'],\n",
        "    'Policy': ['policy', 'implementation', 'administrators', 'instructional coherence'],\n",
        "    'Technology': ['machine learning', 'neural network', 'deep learning', 'big data', 'data mining', 'algorithm', 'support vector machine', 'classification', 'clustering'],\n",
        "    'Other': []\n",
        "}\n",
        "\n",
        "# Function to assign category based on keywords\n",
        "import numpy as np\n",
        "def assign_category(text):\n",
        "    text_lower = text.lower()\n",
        "    for category, keywords in categories_keywords.items():\n",
        "        if any(keyword in text_lower for keyword in keywords):\n",
        "            return category\n",
        "    return 'Other'\n",
        "\n",
        "# Apply the function to create a new column 'Category'\n",
        "df_relevant36['Category'] = df_relevant36['Abstract'].astype(str).apply(assign_category)\n",
        "\n",
        "# Check the distribution of categories\n",
        "category_counts = df_relevant36['Category'].value_counts()\n",
        "print(category_counts)\n",
        "\n",
        "# Now, for each category, plot the TF-IDF score distribution\n",
        "import matplotlib.pyplot as plt\n",
        "import seaborn as sns\n",
        "\n",
        "plt.figure(figsize=(12, 8))\n",
        "for category in category_counts.index:\n",
        "    # Filter TF-IDF scores for documents in this category\n",
        "    texts_in_category = df_relevant36[df_relevant36['Category'] == category]['Abstract'].dropna().astype(str).tolist()\n",
        "    tfidf_matrix_cat = vectorizer.transform(texts_in_category)\n",
        "    scores = tfidf_matrix_cat.toarray().flatten()\n",
        "    sns.histplot(scores, bins=30, kde=True, label=category, alpha=0.6)\n",
        "\n",
        "plt.title('TF-IDF Score Distribution by Document Category')\n",
        "plt.xlabel('TF-IDF Score')\n",
        "plt.ylabel('Frequency')\n",
        "plt.legend()\n",
        "plt.show()"
      ],
      "metadata": {
        "id": "kIMsHWGXV_0A"
      },
      "execution_count": null,
      "outputs": []
    },
    {
      "cell_type": "code",
      "source": [
        "import matplotlib.pyplot as plt\n",
        "import seaborn as sns\n",
        "import pandas as pd\n",
        "\n",
        "# Summarize the top features and their scores\n",
        "top_features = {\n",
        "    'learning': [0.8703, 0.7311],\n",
        "    'performance': [0.8705, 0.6915, 0.5635, 0.4927],\n",
        "    'evaluation': [0.8395, 0.7067],\n",
        "    'media': [0.7559, 0.6942, 0.6259, 0.4686],\n",
        "    'online': [0.8756, 0.6530, 0.5468],\n",
        "    'social': [0.7898, 0.7938, 0.6939, 0.6103],\n",
        "    'quality': [0.7826, 0.5763, 0.5432],\n",
        "    'teachers': [0.4408],\n",
        "    'network': [0.7733, 0.5257],\n",
        "    'teaching': [0.8106, 0.6488, 0.6135],\n",
        "    'data': [0.7665, 0.6172, 0.5337, 0.6648]\n",
        "}\n",
        "\n",
        "# Convert to a DataFrame for visualization\n",
        "features_list = []\n",
        "scores_list = []\n",
        "for feature, scores in top_features.items():\n",
        "    for score in scores:\n",
        "        features_list.append(feature)\n",
        "        scores_list.append(score)\n",
        "\n",
        "df_scores = pd.DataFrame({'Feature': features_list, 'Score': scores_list})\n",
        "\n",
        "# Plot the distribution of scores for top features\n",
        "plt.figure(figsize=(12, 6))\n",
        "sns.boxplot(x='Feature', y='Score', data=df_scores)\n",
        "plt.title('Distribution of TF-IDF Scores for Top Features')\n",
        "plt.xticks(rotation=45)\n",
        "plt.show()"
      ],
      "metadata": {
        "id": "_2VDk9m7WD9_"
      },
      "execution_count": null,
      "outputs": []
    }
  ]
}