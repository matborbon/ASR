{
  "nbformat": 4,
  "nbformat_minor": 0,
  "metadata": {
    "colab": {
      "provenance": []
    },
    "kernelspec": {
      "name": "python3",
      "display_name": "Python 3"
    },
    "language_info": {
      "name": "python"
    }
  },
  "cells": [
    {
      "cell_type": "code",
      "execution_count": null,
      "metadata": {
        "id": "tfwvr_C-r5vm"
      },
      "outputs": [],
      "source": [
        "# Reload with header row index 2\n",
        "import pandas as pd\n",
        "import matplotlib.pyplot as plt\n",
        "import seaborn as sns\n",
        "\n",
        "plt.close('all')\n",
        "\n",
        "df = pd.read_excel('Screening_xxx.xlsx', sheet_name='XXX', header=2)\n",
        "print('Columns preview:')\n",
        "print(df.columns[:25])\n",
        "\n",
        "# Clean Year\n",
        "df['Year'] = pd.to_numeric(df['Year'], errors='coerce')\n",
        "\n",
        "# Filter 2019-2024\n",
        "df_recent = df[df['Year'].between(2019, 2024, inclusive='both')]\n",
        "print('Record count 2019-2024:')\n",
        "print(df_recent.shape[0])\n",
        "\n",
        "# Bar chart\n",
        "pub_counts = df_recent['Year'].value_counts().sort_index()\n",
        "plt.figure(figsize=(8,4))\n",
        "ax = sns.barplot(x=pub_counts.index.astype(int), y=pub_counts.values, palette='viridis')\n",
        "ax.set_xlabel('Publication Year')\n",
        "ax.set_ylabel('Number of Papers')\n",
        "ax.set_title('Publication Trends (2019-2024)')\n",
        "for i,v in enumerate(pub_counts.values):\n",
        "    ax.text(i, v+0.1, str(v), ha='center')\n",
        "plt.tight_layout()\n",
        "plt.show()\n",
        "\n",
        "# Heatmap Platform vs Algorithm\n",
        "platform_col = 'Platforms Used'\n",
        "alg_col = 'Algorithms Used'\n",
        "if platform_col in df_recent.columns and alg_col in df_recent.columns:\n",
        "    df_exp = df_recent.copy()\n",
        "    df_exp[platform_col] = df_exp[platform_col].astype(str).str.split(',')\n",
        "    df_exp[alg_col] = df_exp[alg_col].astype(str).str.split(',')\n",
        "    df_exp = df_exp.explode(platform_col).explode(alg_col)\n",
        "    df_exp[platform_col] = df_exp[platform_col].str.strip()\n",
        "    df_exp[alg_col] = df_exp[alg_col].str.strip()\n",
        "    matrix = pd.crosstab(df_exp[platform_col], df_exp[alg_col])\n",
        "    plt.figure(figsize=(10,6))\n",
        "    sns.heatmap(matrix, annot=True, fmt='d', cmap='YlGnBu')\n",
        "    plt.title('Platform vs Algorithm Usage (2019-2024)')\n",
        "    plt.xlabel('Algorithms')\n",
        "    plt.ylabel('Platforms')\n",
        "    plt.tight_layout()\n",
        "    plt.show()\n",
        "else:\n",
        "    print('Columns missing for heatmap.')\n",
        "\n"
      ]
    },
    {
      "cell_type": "code",
      "source": [
        "# Heatmap: Platforms vs Methodology\n",
        "import pandas as pd\n",
        "import matplotlib.pyplot as plt\n",
        "import seaborn as sns\n",
        "\n",
        "# ensure df_recent exists\n",
        "try:\n",
        "    df_recent\n",
        "except NameError:\n",
        "    df_recent = pd.read_excel('Screening_xxx.xlsx', sheet_name='XXX', header=2)\n",
        "    df_recent['Year'] = pd.to_numeric(df_recent['Year'], errors='coerce')\n",
        "    df_recent = df_recent[df_recent['Year'].between(2019, 2024, inclusive='both')]\n",
        "\n",
        "platform_col = 'Platforms Used'\n",
        "method_col = 'Methodology'\n",
        "\n",
        "df_pm = df_recent[[platform_col, method_col]].copy()\n",
        "for col in [platform_col, method_col]:\n",
        "    df_pm[col] = df_pm[col].astype(str).str.split(',')\n",
        "\n",
        "df_pm = df_pm.explode(platform_col).explode(method_col)\n",
        "for col in [platform_col, method_col]:\n",
        "    df_pm[col] = df_pm[col].str.strip()\n",
        "\n",
        "# drop empty\n",
        "df_pm = df_pm[(df_pm[platform_col] != '') & (df_pm[method_col] != '')]\n",
        "\n",
        "matrix_pm = pd.crosstab(df_pm[platform_col], df_pm[method_col])\n",
        "print('Platforms-Methodology matrix size:')\n",
        "print(matrix_pm.shape)\n",
        "\n",
        "plt.figure(figsize=(12,7))\n",
        "ax = sns.heatmap(matrix_pm, annot=True, fmt='d', cmap='YlOrRd')\n",
        "plt.xlabel('Methodology')\n",
        "plt.ylabel('Platform')\n",
        "plt.title('Platforms vs Methods Used (2019-2024)')\n",
        "plt.tight_layout()\n",
        "plt.show()"
      ],
      "metadata": {
        "id": "JZr19KaMtxjM"
      },
      "execution_count": null,
      "outputs": []
    }
  ]
}